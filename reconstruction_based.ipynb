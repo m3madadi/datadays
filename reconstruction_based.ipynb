{
 "cells": [
  {
   "cell_type": "code",
   "execution_count": 2,
   "metadata": {},
   "outputs": [
    {
     "name": "stderr",
     "output_type": "stream",
     "text": [
      "2022-09-08 17:21:07.228106: I tensorflow/core/util/util.cc:169] oneDNN custom operations are on. You may see slightly different numerical results due to floating-point round-off errors from different computation orders. To turn them off, set the environment variable `TF_ENABLE_ONEDNN_OPTS=0`.\n",
      "2022-09-08 17:21:07.230641: W tensorflow/stream_executor/platform/default/dso_loader.cc:64] Could not load dynamic library 'libcudart.so.11.0'; dlerror: libcudart.so.11.0: cannot open shared object file: No such file or directory\n",
      "2022-09-08 17:21:07.230650: I tensorflow/stream_executor/cuda/cudart_stub.cc:29] Ignore above cudart dlerror if you do not have a GPU set up on your machine.\n"
     ]
    }
   ],
   "source": [
    "# Import\n",
    "import pandas as pd\n",
    "import darts\n",
    "from darts import TimeSeries\n",
    "import matplotlib.pyplot as plt\n",
    "import numpy as np\n",
    "from sklearn.preprocessing import StandardScaler\n",
    "from sklearn.decomposition import PCA\n",
    "import sys, os\n",
    "from sklearn.metrics import mean_squared_error\n",
    "from statsmodels.tsa.seasonal import STL\n",
    "from pyod.models.auto_encoder import AutoEncoder\n",
    "from pyod.models.vae import VAE\n",
    "from sklearn.metrics import f1_score, recall_score, precision_score"
   ]
  },
  {
   "cell_type": "markdown",
   "metadata": {},
   "source": [
    "## Functions"
   ]
  },
  {
   "cell_type": "code",
   "execution_count": 4,
   "metadata": {},
   "outputs": [],
   "source": [
    "def plot_outlier(predicted_df):\n",
    "    fig, ax = plt.subplots(figsize=(18,6))\n",
    "    outlier_points = predicted_df.loc[predicted_df['prediction'] == 1] #anomaly\n",
    "    ax.plot(predicted_df.index, predicted_df['value'], color='blue', label = 'Normal')\n",
    "    ax.scatter(outlier_points.index, outlier_points['value'], color='red', label = 'Anomaly')\n",
    "    plt.legend()\n",
    "    plt.show()\n",
    "    # return ax"
   ]
  },
  {
   "cell_type": "markdown",
   "metadata": {},
   "source": [
    "## Load & Preprocess Data"
   ]
  },
  {
   "cell_type": "code",
   "execution_count": 5,
   "metadata": {},
   "outputs": [],
   "source": [
    "# Merging all files and making the dataframe\n",
    "# df = pd.concat(map(pd.read_csv, glob.glob(os.path.join(\"./data\" , \"*.csv\"))), ignore_index= True)\n",
    "df = pd.read_csv('data/0.csv')\n",
    "df['timestamp'] = pd.to_datetime(df['timestamp'], unit='s')\n",
    "df = df.set_index('timestamp')\n",
    "df = df.asfreq(freq='T')\n",
    "df = df.interpolate()\n",
    "df['label'] = df.label.astype(int)"
   ]
  },
  {
   "cell_type": "code",
   "execution_count": 6,
   "metadata": {},
   "outputs": [],
   "source": [
    "# df_hourly = df.resample('H').mean()"
   ]
  },
  {
   "cell_type": "code",
   "execution_count": 7,
   "metadata": {},
   "outputs": [],
   "source": [
    "# Create a TimeSeries, specifying the time and value columns\n",
    "# Set aside the last 20 percent of ts as a validation series\n",
    "# series = TimeSeries.from_dataframe(df_hourly, value_cols='value')\n",
    "# train, val = series[:-round(len(df_hourly) / 5)], series[-round(len(df_hourly) / 5):]"
   ]
  },
  {
   "cell_type": "code",
   "execution_count": 8,
   "metadata": {},
   "outputs": [],
   "source": [
    "scaler = StandardScaler()\n",
    "np_scaled = scaler.fit_transform(df['value'].values.reshape(-1, 1))\n",
    "df['scaled'] = np_scaled\n",
    "data = df['scaled'].to_frame()"
   ]
  },
  {
   "cell_type": "markdown",
   "metadata": {},
   "source": [
    "## PCA"
   ]
  },
  {
   "cell_type": "code",
   "execution_count": 15,
   "metadata": {},
   "outputs": [],
   "source": [
    "# pca = PCA(n_components=1)\n",
    "# df['prediction'] = pca.fit_transform(df.drop('label', axis=1))"
   ]
  },
  {
   "cell_type": "code",
   "execution_count": 16,
   "metadata": {},
   "outputs": [],
   "source": [
    "# plt.rcParams[\"figure.figsize\"] = (18,6)\n",
    "# df.prediction.plot()"
   ]
  },
  {
   "cell_type": "markdown",
   "metadata": {},
   "source": [
    "## AutoEncoder"
   ]
  },
  {
   "cell_type": "code",
   "execution_count": 10,
   "metadata": {},
   "outputs": [
    {
     "name": "stdout",
     "output_type": "stream",
     "text": [
      "Model: \"sequential_1\"\n",
      "_________________________________________________________________\n",
      " Layer (type)                Output Shape              Param #   \n",
      "=================================================================\n",
      " dense_7 (Dense)             (None, 1)                 2         \n",
      "                                                                 \n",
      " dropout_6 (Dropout)         (None, 1)                 0         \n",
      "                                                                 \n",
      " dense_8 (Dense)             (None, 1)                 2         \n",
      "                                                                 \n",
      " dropout_7 (Dropout)         (None, 1)                 0         \n",
      "                                                                 \n",
      " dense_9 (Dense)             (None, 1)                 2         \n",
      "                                                                 \n",
      " dropout_8 (Dropout)         (None, 1)                 0         \n",
      "                                                                 \n",
      " dense_10 (Dense)            (None, 10)                20        \n",
      "                                                                 \n",
      " dropout_9 (Dropout)         (None, 10)                0         \n",
      "                                                                 \n",
      " dense_11 (Dense)            (None, 10)                110       \n",
      "                                                                 \n",
      " dropout_10 (Dropout)        (None, 10)                0         \n",
      "                                                                 \n",
      " dense_12 (Dense)            (None, 1)                 11        \n",
      "                                                                 \n",
      " dropout_11 (Dropout)        (None, 1)                 0         \n",
      "                                                                 \n",
      " dense_13 (Dense)            (None, 1)                 2         \n",
      "                                                                 \n",
      "=================================================================\n",
      "Total params: 149\n",
      "Trainable params: 149\n",
      "Non-trainable params: 0\n",
      "_________________________________________________________________\n",
      "None\n",
      "Epoch 1/20\n",
      "3707/3707 [==============================] - 4s 1ms/step - loss: 1.0967 - val_loss: 1.0041\n",
      "Epoch 2/20\n",
      "3707/3707 [==============================] - 4s 1ms/step - loss: 1.0077 - val_loss: 0.9917\n",
      "Epoch 3/20\n",
      "3707/3707 [==============================] - 4s 1ms/step - loss: 1.0026 - val_loss: 0.9900\n",
      "Epoch 4/20\n",
      "3707/3707 [==============================] - 4s 1ms/step - loss: 1.0017 - val_loss: 0.9895\n",
      "Epoch 5/20\n",
      "3707/3707 [==============================] - 4s 1ms/step - loss: 1.0015 - val_loss: 0.9894\n",
      "Epoch 6/20\n",
      "3707/3707 [==============================] - 4s 1ms/step - loss: 1.0013 - val_loss: 0.9893\n",
      "Epoch 7/20\n",
      "3707/3707 [==============================] - 4s 1ms/step - loss: 1.0013 - val_loss: 0.9892\n",
      "Epoch 8/20\n",
      "3707/3707 [==============================] - 4s 1ms/step - loss: 1.0013 - val_loss: 0.9892\n",
      "Epoch 9/20\n",
      "3707/3707 [==============================] - 4s 988us/step - loss: 1.0013 - val_loss: 0.9892\n",
      "Epoch 10/20\n",
      "3707/3707 [==============================] - 4s 1ms/step - loss: 1.0012 - val_loss: 0.9892\n",
      "Epoch 11/20\n",
      "3707/3707 [==============================] - 4s 1ms/step - loss: 1.0012 - val_loss: 0.9892\n",
      "Epoch 12/20\n",
      "3707/3707 [==============================] - 4s 1ms/step - loss: 1.0012 - val_loss: 0.9892\n",
      "Epoch 13/20\n",
      "3707/3707 [==============================] - 4s 1ms/step - loss: 1.0012 - val_loss: 0.9892\n",
      "Epoch 14/20\n",
      "3707/3707 [==============================] - 4s 998us/step - loss: 1.0012 - val_loss: 0.9892\n",
      "Epoch 15/20\n",
      "3707/3707 [==============================] - 4s 996us/step - loss: 1.0012 - val_loss: 0.9892\n",
      "Epoch 16/20\n",
      "3707/3707 [==============================] - 4s 999us/step - loss: 1.0012 - val_loss: 0.9892\n",
      "Epoch 17/20\n",
      "3707/3707 [==============================] - 4s 1ms/step - loss: 1.0012 - val_loss: 0.9892\n",
      "Epoch 18/20\n",
      "3707/3707 [==============================] - 4s 1ms/step - loss: 1.0012 - val_loss: 0.9892\n",
      "Epoch 19/20\n",
      "3707/3707 [==============================] - 4s 995us/step - loss: 1.0012 - val_loss: 0.9892\n",
      "Epoch 20/20\n",
      "3707/3707 [==============================] - 4s 994us/step - loss: 1.0012 - val_loss: 0.9892\n",
      "4119/4119 [==============================] - 2s 506us/step\n"
     ]
    },
    {
     "data": {
      "text/plain": [
       "AutoEncoder(batch_size=32, contamination=0.1, dropout_rate=0.2, epochs=20,\n",
       "      hidden_activation='relu', hidden_neurons=[1, 10, 10, 1],\n",
       "      l2_regularizer=0.1,\n",
       "      loss=<function mean_squared_error at 0x7f57cfae8280>,\n",
       "      optimizer='adam', output_activation='sigmoid', preprocessing=True,\n",
       "      random_state=None, validation_size=0.1, verbose=1)"
      ]
     },
     "execution_count": 10,
     "metadata": {},
     "output_type": "execute_result"
    }
   ],
   "source": [
    "ae_clf = AutoEncoder(hidden_neurons =[1, 10, 10, 1], epochs=2)\n",
    "ae_clf.fit(data)"
   ]
  },
  {
   "cell_type": "code",
   "execution_count": 40,
   "metadata": {},
   "outputs": [
    {
     "data": {
      "image/png": "[encoded data removed]",
      "text/plain": [
       "<Figure size 640x480 with 1 Axes>"
      ]
     },
     "metadata": {},
     "output_type": "display_data"
    }
   ],
   "source": [
    "plt.hist(ae_clf.decision_scores_, bins='auto')\n",
    "plt.title(\"Histogram for Model Clf1 Anomaly Scores\")\n",
    "plt.show()"
   ]
  },
  {
   "cell_type": "code",
   "execution_count": 86,
   "metadata": {},
   "outputs": [
    {
     "data": {
      "text/plain": [
       "0    128047\n",
       "1      3748\n",
       "Name: cluster, dtype: int64"
      ]
     },
     "execution_count": 86,
     "metadata": {},
     "output_type": "execute_result"
    }
   ],
   "source": [
    "# Best fit score number is 1.54\n",
    "ae_prediction_df = data.copy()\n",
    "ae_prediction_df['score'] = ae_clf.decision_scores_ # outlier score\n",
    "ae_prediction_df['prediction'] = np.where(ae_prediction_df['score'] < 1.54, 0, 1)\n",
    "ae_prediction_df['prediction'].value_counts()\n",
    "# df['label'].value_counts()\n",
    "# ae_prediction_df.groupby('prediction').mean()"
   ]
  },
  {
   "cell_type": "markdown",
   "metadata": {},
   "source": [
    "#### Visualization"
   ]
  },
  {
   "cell_type": "code",
   "execution_count": null,
   "metadata": {},
   "outputs": [],
   "source": [
    "plot_outlier(ae_prediction_df)"
   ]
  },
  {
   "cell_type": "markdown",
   "metadata": {},
   "source": [
    "#### Metrics"
   ]
  },
  {
   "cell_type": "code",
   "execution_count": 90,
   "metadata": {},
   "outputs": [
    {
     "data": {
      "text/plain": [
       "0.5317502668089648"
      ]
     },
     "execution_count": 90,
     "metadata": {},
     "output_type": "execute_result"
    }
   ],
   "source": [
    "f1_score(df['label'], ae_prediction_df['prediction'])\n",
    "# recall_score(df['label'], ae_prediction_df['prediction'])\n",
    "# precision_score(df['label'], ae_prediction_df['prediction'])"
   ]
  },
  {
   "cell_type": "markdown",
   "metadata": {},
   "source": [
    "## VAE"
   ]
  },
  {
   "cell_type": "code",
   "execution_count": 7,
   "metadata": {},
   "outputs": [
    {
     "name": "stdout",
     "output_type": "stream",
     "text": [
      "Model: \"model\"\n",
      "__________________________________________________________________________________________________\n",
      " Layer (type)                   Output Shape         Param #     Connected to                     \n",
      "==================================================================================================\n",
      " input_1 (InputLayer)           [(None, 1)]          0           []                               \n",
      "                                                                                                  \n",
      " dense (Dense)                  (None, 1)            2           ['input_1[0][0]']                \n",
      "                                                                                                  \n",
      " dense_1 (Dense)                (None, 1)            2           ['dense[0][0]']                  \n",
      "                                                                                                  \n",
      " dropout (Dropout)              (None, 1)            0           ['dense_1[0][0]']                \n",
      "                                                                                                  \n",
      " dense_2 (Dense)                (None, 10)           20          ['dropout[0][0]']                \n",
      "                                                                                                  \n",
      " dropout_1 (Dropout)            (None, 10)           0           ['dense_2[0][0]']                \n",
      "                                                                                                  \n",
      " dense_3 (Dense)                (None, 64)           704         ['dropout_1[0][0]']              \n",
      "                                                                                                  \n",
      " dropout_2 (Dropout)            (None, 64)           0           ['dense_3[0][0]']                \n",
      "                                                                                                  \n",
      " dense_4 (Dense)                (None, 2)            130         ['dropout_2[0][0]']              \n",
      "                                                                                                  \n",
      " dense_5 (Dense)                (None, 2)            130         ['dropout_2[0][0]']              \n",
      "                                                                                                  \n",
      " lambda (Lambda)                (None, 2)            0           ['dense_4[0][0]',                \n",
      "                                                                  'dense_5[0][0]']                \n",
      "                                                                                                  \n",
      "==================================================================================================\n",
      "Total params: 988\n",
      "Trainable params: 988\n",
      "Non-trainable params: 0\n",
      "__________________________________________________________________________________________________\n",
      "Model: \"model_1\"\n",
      "_________________________________________________________________\n",
      " Layer (type)                Output Shape              Param #   \n",
      "=================================================================\n",
      " input_2 (InputLayer)        [(None, 2)]               0         \n",
      "                                                                 \n",
      " dense_6 (Dense)             (None, 2)                 6         \n",
      "                                                                 \n",
      " dense_7 (Dense)             (None, 64)                192       \n",
      "                                                                 \n",
      " dropout_3 (Dropout)         (None, 64)                0         \n",
      "                                                                 \n",
      " dense_8 (Dense)             (None, 10)                650       \n",
      "                                                                 \n",
      " dropout_4 (Dropout)         (None, 10)                0         \n",
      "                                                                 \n",
      " dense_9 (Dense)             (None, 1)                 11        \n",
      "                                                                 \n",
      " dropout_5 (Dropout)         (None, 1)                 0         \n",
      "                                                                 \n",
      " dense_10 (Dense)            (None, 1)                 2         \n",
      "                                                                 \n",
      "=================================================================\n",
      "Total params: 861\n",
      "Trainable params: 861\n",
      "Non-trainable params: 0\n",
      "_________________________________________________________________\n"
     ]
    },
    {
     "name": "stderr",
     "output_type": "stream",
     "text": [
      "2022-09-08 14:39:38.809182: W tensorflow/stream_executor/platform/default/dso_loader.cc:64] Could not load dynamic library 'libcuda.so.1'; dlerror: libcuda.so.1: cannot open shared object file: No such file or directory\n",
      "2022-09-08 14:39:38.809213: W tensorflow/stream_executor/cuda/cuda_driver.cc:269] failed call to cuInit: UNKNOWN ERROR (303)\n",
      "2022-09-08 14:39:38.809223: I tensorflow/stream_executor/cuda/cuda_diagnostics.cc:156] kernel driver does not appear to be running on this host (Madadi): /proc/driver/nvidia/version does not exist\n",
      "2022-09-08 14:39:38.809492: I tensorflow/core/platform/cpu_feature_guard.cc:193] This TensorFlow binary is optimized with oneAPI Deep Neural Network Library (oneDNN) to use the following CPU instructions in performance-critical operations:  AVX2 AVX_VNNI FMA\n",
      "To enable them in other operations, rebuild TensorFlow with the appropriate compiler flags.\n"
     ]
    },
    {
     "name": "stdout",
     "output_type": "stream",
     "text": [
      "Model: \"model_2\"\n",
      "__________________________________________________________________________________________________\n",
      " Layer (type)                   Output Shape         Param #     Connected to                     \n",
      "==================================================================================================\n",
      " input_1 (InputLayer)           [(None, 1)]          0           []                               \n",
      "                                                                                                  \n",
      " model (Functional)             [(None, 2),          988         ['input_1[0][0]']                \n",
      "                                 (None, 2),                                                       \n",
      "                                 (None, 2)]                                                       \n",
      "                                                                                                  \n",
      " model_1 (Functional)           (None, 1)            861         ['model[0][2]']                  \n",
      "                                                                                                  \n",
      " dense (Dense)                  (None, 1)            2           ['input_1[0][0]']                \n",
      "                                                                                                  \n",
      " dense_1 (Dense)                (None, 1)            2           ['dense[0][0]']                  \n",
      "                                                                                                  \n",
      " dropout (Dropout)              (None, 1)            0           ['dense_1[0][0]']                \n",
      "                                                                                                  \n",
      " dense_2 (Dense)                (None, 10)           20          ['dropout[0][0]']                \n",
      "                                                                                                  \n",
      " dropout_1 (Dropout)            (None, 10)           0           ['dense_2[0][0]']                \n",
      "                                                                                                  \n",
      " dense_3 (Dense)                (None, 64)           704         ['dropout_1[0][0]']              \n",
      "                                                                                                  \n",
      " dropout_2 (Dropout)            (None, 64)           0           ['dense_3[0][0]']                \n",
      "                                                                                                  \n",
      " dense_5 (Dense)                (None, 2)            130         ['dropout_2[0][0]']              \n",
      "                                                                                                  \n",
      " dense_4 (Dense)                (None, 2)            130         ['dropout_2[0][0]']              \n",
      "                                                                                                  \n",
      " tf.__operators__.add (TFOpLamb  (None, 2)           0           ['dense_5[0][0]']                \n",
      " da)                                                                                              \n",
      "                                                                                                  \n",
      " tf.math.square (TFOpLambda)    (None, 2)            0           ['dense_4[0][0]']                \n",
      "                                                                                                  \n",
      " tf.math.subtract (TFOpLambda)  (None, 2)            0           ['tf.__operators__.add[0][0]',   \n",
      "                                                                  'tf.math.square[0][0]']         \n",
      "                                                                                                  \n",
      " tf.math.exp (TFOpLambda)       (None, 2)            0           ['dense_5[0][0]']                \n",
      "                                                                                                  \n",
      " tf.math.subtract_1 (TFOpLambda  (None, 2)           0           ['tf.math.subtract[0][0]',       \n",
      " )                                                                'tf.math.exp[0][0]']            \n",
      "                                                                                                  \n",
      " tf.math.reduce_sum (TFOpLambda  (None,)             0           ['tf.math.subtract_1[0][0]']     \n",
      " )                                                                                                \n",
      "                                                                                                  \n",
      " tf.convert_to_tensor (TFOpLamb  (None, 1)           0           ['model_1[0][0]']                \n",
      " da)                                                                                              \n",
      "                                                                                                  \n",
      " tf.cast (TFOpLambda)           (None, 1)            0           ['input_1[0][0]']                \n",
      "                                                                                                  \n",
      " tf.math.multiply_1 (TFOpLambda  (None,)             0           ['tf.math.reduce_sum[0][0]']     \n",
      " )                                                                                                \n",
      "                                                                                                  \n",
      " tf.math.squared_difference (TF  (None, 1)           0           ['tf.convert_to_tensor[0][0]',   \n",
      " OpLambda)                                                        'tf.cast[0][0]']                \n",
      "                                                                                                  \n",
      " tf.math.subtract_2 (TFOpLambda  (None,)             0           ['tf.math.multiply_1[0][0]']     \n",
      " )                                                                                                \n",
      "                                                                                                  \n",
      " tf.math.reduce_mean (TFOpLambd  (None,)             0           ['tf.math.squared_difference[0][0\n",
      " a)                                                              ]']                              \n",
      "                                                                                                  \n",
      " tf.math.abs (TFOpLambda)       (None,)              0           ['tf.math.subtract_2[0][0]']     \n",
      "                                                                                                  \n",
      " tf.math.multiply (TFOpLambda)  (None,)              0           ['tf.math.reduce_mean[0][0]']    \n",
      "                                                                                                  \n",
      " tf.math.multiply_2 (TFOpLambda  (None,)             0           ['tf.math.abs[0][0]']            \n",
      " )                                                                                                \n",
      "                                                                                                  \n",
      " tf.__operators__.add_1 (TFOpLa  (None,)             0           ['tf.math.multiply[0][0]',       \n",
      " mbda)                                                            'tf.math.multiply_2[0][0]']     \n",
      "                                                                                                  \n",
      " tf.math.reduce_mean_1 (TFOpLam  ()                  0           ['tf.__operators__.add_1[0][0]'] \n",
      " bda)                                                                                             \n",
      "                                                                                                  \n",
      " add_loss (AddLoss)             ()                   0           ['tf.math.reduce_mean_1[0][0]']  \n",
      "                                                                                                  \n",
      "==================================================================================================\n",
      "Total params: 1,849\n",
      "Trainable params: 1,849\n",
      "Non-trainable params: 0\n",
      "__________________________________________________________________________________________________\n",
      "Epoch 1/20\n",
      "3707/3707 [==============================] - 5s 1ms/step - loss: 1.1918 - val_loss: 1.0826\n",
      "Epoch 2/20\n",
      "3707/3707 [==============================] - 4s 1ms/step - loss: 1.0953 - val_loss: 1.0354\n",
      "Epoch 3/20\n",
      "3707/3707 [==============================] - 4s 1ms/step - loss: 1.0729 - val_loss: 1.0167\n",
      "Epoch 4/20\n",
      "3707/3707 [==============================] - 4s 1ms/step - loss: 1.0634 - val_loss: 1.0079\n",
      "Epoch 5/20\n",
      "3707/3707 [==============================] - 4s 1ms/step - loss: 1.0570 - val_loss: 1.0061\n",
      "Epoch 6/20\n",
      "3707/3707 [==============================] - 4s 1ms/step - loss: 1.0554 - val_loss: 1.0012\n",
      "Epoch 7/20\n",
      "3707/3707 [==============================] - 4s 1ms/step - loss: 1.0514 - val_loss: 1.0004\n",
      "Epoch 8/20\n",
      "3707/3707 [==============================] - 4s 1ms/step - loss: 1.0504 - val_loss: 0.9989\n",
      "Epoch 9/20\n",
      "3707/3707 [==============================] - 4s 1ms/step - loss: 1.0489 - val_loss: 0.9976\n",
      "Epoch 10/20\n",
      "3707/3707 [==============================] - 4s 1ms/step - loss: 1.0471 - val_loss: 0.9969\n",
      "Epoch 11/20\n",
      "3707/3707 [==============================] - 4s 1ms/step - loss: 1.0468 - val_loss: 0.9958\n",
      "Epoch 12/20\n",
      "3707/3707 [==============================] - 4s 1ms/step - loss: 1.0448 - val_loss: 0.9948\n",
      "Epoch 13/20\n",
      "3707/3707 [==============================] - 4s 1ms/step - loss: 1.0433 - val_loss: 0.9952\n",
      "Epoch 14/20\n",
      "3707/3707 [==============================] - 4s 1ms/step - loss: 1.0442 - val_loss: 0.9938\n",
      "Epoch 15/20\n",
      "3707/3707 [==============================] - 4s 1ms/step - loss: 1.0410 - val_loss: 0.9938\n",
      "Epoch 16/20\n",
      "3707/3707 [==============================] - 4s 1ms/step - loss: 1.0426 - val_loss: 0.9936\n",
      "Epoch 17/20\n",
      "3707/3707 [==============================] - 4s 1ms/step - loss: 1.0411 - val_loss: 0.9932\n",
      "Epoch 18/20\n",
      "3707/3707 [==============================] - 4s 1ms/step - loss: 1.0418 - val_loss: 0.9927\n",
      "Epoch 19/20\n",
      "3707/3707 [==============================] - 4s 1ms/step - loss: 1.0413 - val_loss: 0.9930\n",
      "Epoch 20/20\n",
      "3707/3707 [==============================] - 4s 1ms/step - loss: 1.0393 - val_loss: 0.9932\n",
      "4119/4119 [==============================] - 2s 569us/step\n"
     ]
    },
    {
     "data": {
      "text/plain": [
       "VAE(batch_size=32, capacity=0.0, contamination=0.1,\n",
       "  decoder_neurons=[64, 10, 1], dropout_rate=0.2,\n",
       "  encoder_neurons=[1, 10, 64], epochs=20, gamma=1.0,\n",
       "  hidden_activation='relu', l2_regularizer=0.1, latent_dim=2,\n",
       "  loss=<function mean_squared_error at 0x7f869c75c280>,\n",
       "  optimizer='adagrad', output_activation='sigmoid', preprocessing=True,\n",
       "  random_state=None, validation_size=0.1, verbose=1)"
      ]
     },
     "execution_count": 7,
     "metadata": {},
     "output_type": "execute_result"
    }
   ],
   "source": [
    "vae_clf = VAE(encoder_neurons=[1, 10, 64], decoder_neurons=[64, 10, 1], epochs=20, optimizer='adagrad')\n",
    "vae_clf.fit(data)"
   ]
  },
  {
   "cell_type": "code",
   "execution_count": 8,
   "metadata": {},
   "outputs": [
    {
     "name": "stdout",
     "output_type": "stream",
     "text": [
      "4119/4119 [==============================] - 2s 566us/step\n"
     ]
    }
   ],
   "source": [
    "outlier_predict = vae_clf.predict(data)"
   ]
  },
  {
   "cell_type": "code",
   "execution_count": 9,
   "metadata": {},
   "outputs": [
    {
     "data": {
      "image/png": "[encoded data removed]",
      "text/plain": [
       "<Figure size 640x480 with 1 Axes>"
      ]
     },
     "metadata": {},
     "output_type": "display_data"
    }
   ],
   "source": [
    "plt.hist(vae_clf.decision_scores_, bins='auto')\n",
    "plt.title(\"Histogram for Model Clf1 Anomaly Scores\")\n",
    "plt.show()"
   ]
  },
  {
   "cell_type": "code",
   "execution_count": 24,
   "metadata": {},
   "outputs": [
    {
     "data": {
      "text/plain": [
       "0    128233\n",
       "1      3562\n",
       "Name: cluster, dtype: int64"
      ]
     },
     "execution_count": 24,
     "metadata": {},
     "output_type": "execute_result"
    }
   ],
   "source": [
    "# Best fit score number is 1.54\n",
    "vae_prediction_df = df.copy()\n",
    "vae_prediction_df['score'] = vae_clf.decision_scores_\n",
    "vae_prediction_df['prediction'] = np.where(vae_prediction_df['score'] < 1.58, 0, 1)\n",
    "vae_prediction_df['prediction'].value_counts()\n",
    "# df['label'].value_counts()\n",
    "# ae_prediction_df.groupby('prediction').mean()"
   ]
  },
  {
   "cell_type": "markdown",
   "metadata": {},
   "source": [
    "#### Visualization"
   ]
  },
  {
   "cell_type": "code",
   "execution_count": null,
   "metadata": {},
   "outputs": [],
   "source": [
    "plot_outlier(vae_prediction_df)"
   ]
  },
  {
   "cell_type": "markdown",
   "metadata": {},
   "source": [
    "#### Metrics"
   ]
  },
  {
   "cell_type": "code",
   "execution_count": null,
   "metadata": {},
   "outputs": [
    {
     "data": {
      "text/plain": [
       "0.5317502668089648"
      ]
     },
     "metadata": {},
     "output_type": "display_data"
    }
   ],
   "source": [
    "f1_score(df['label'], vae_prediction_df['prediction'])\n",
    "# recall_score(df['label'], ae_prediction_df['prediction'])\n",
    "# precision_score(df['label'], ae_prediction_df['prediction'])"
   ]
  }
 ],
 "metadata": {
  "kernelspec": {
   "display_name": "Python 3.10.4 ('main')",
   "language": "python",
   "name": "python3"
  },
  "language_info": {
   "codemirror_mode": {
    "name": "ipython",
    "version": 3
   },
   "file_extension": ".py",
   "mimetype": "text/x-python",
   "name": "python",
   "nbconvert_exporter": "python",
   "pygments_lexer": "ipython3",
   "version": "3.10.4"
  },
  "orig_nbformat": 4,
  "vscode": {
   "interpreter": {
    "hash": "f0cf53528eda0cb4bf223c9d630c850e13d0e5d45b6f3ca080b7ff6c56946f6a"
   }
  }
 },
 "nbformat": 4,
 "nbformat_minor": 2
}
